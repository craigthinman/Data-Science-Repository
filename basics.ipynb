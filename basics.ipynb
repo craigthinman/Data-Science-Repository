{
 "cells": [
  {
   "cell_type": "markdown",
   "metadata": {},
   "source": [
    "# Strings"
   ]
  },
  {
   "cell_type": "code",
   "execution_count": 26,
   "metadata": {
    "collapsed": true
   },
   "outputs": [
    {
     "name": "stdout",
     "output_type": "stream",
     "text": [
      "a: Hello World -- Printed the string assigned to the variable 'message'\n",
      "b: Hello -- Returned from 0 index up to but not including 5th index\n",
      "c: HELLO WORLD -- Made string all upper case\n",
      "d: 3 -- Counted every 'l' in the string\n",
      "e: 6 -- Returned the index of where 'World' started in the string\n",
      "f: -1 -- Returned -1 because 'Corna' is not in the string\n",
      "g: Hello Universe -- Returned a new string made by replacing 'World' with 'Universe' using the replace function\n",
      "h: Hello, CRAIG T. Welcome!\n"
     ]
    }
   ],
   "source": [
    "# Assign a variable\n",
    "message = \"Hello World\"\n",
    "\n",
    "# A - Print\n",
    "print(f\"a: {message} -- Printed the string assigned to the variable 'message'\")\n",
    "\n",
    "# B - Indexing\n",
    "print(f'b: {message[:5]} -- Returned from 0 index up to but not including 5th index')\n",
    "\n",
    "# C - Changing upper/lower casing\n",
    "print(f'c: {message.upper()} -- Made string all upper case')\n",
    "\n",
    "# D - Count function using a string\n",
    "print(f\"d: {message.count('l')} -- Counted every 'l' in the string\")\n",
    "\n",
    "# E - Find function\n",
    "print(f\"e: {message.find('World')} -- Returned the index of where 'World' started in the string\")\n",
    "\n",
    "# F - Find when nothing is found\n",
    "print(f\"f: {message.find('Corna')} -- Returned -1 because 'Corna' is not in the string\")\n",
    "\n",
    "# G - Replace function\n",
    "message = message.replace('World', 'Universe')\n",
    "print(f\"g: {message} -- Returned a new string made by replacing 'World' with 'Universe' using the replace function\")\n",
    "\n",
    "# H - Learning f strings and changing variables\n",
    "greeting = 'Hello'\n",
    "name = 'Craig T'\n",
    "\n",
    "message = f'h: {greeting}, {name.upper()}. Welcome!'\n",
    "print(message)\n",
    "\n",
    "#  print(dir(x)) shows all functions that can be applied to a variable\n",
    "\n",
    "# print(help(str.lower())) shows what a function(lower function here) does\n"
   ]
  },
  {
   "cell_type": "markdown",
   "metadata": {},
   "source": [
    "# Integers, Comparisons, & Floats"
   ]
  },
  {
   "cell_type": "code",
   "execution_count": 15,
   "metadata": {
    "collapsed": true
   },
   "outputs": [
    {
     "name": "stdout",
     "output_type": "stream",
     "text": [
      "The number 3 is a <class 'int'> and the number 3.14 is a <class 'float'>.\n"
     ]
    }
   ],
   "source": [
    "num = 3\n",
    "int = 3.14\n",
    "print(f'The number {num} is a {type(num)} and the number {int} is a {type(int)}.')\n",
    "\n",
    "# Arithmetic Operators:\n",
    "# Addition:       3 + 2\n",
    "# Subtraction:    3 - 2\n",
    "# Multiplication: 3 * 2\n",
    "# Division:       3 / 2\n",
    "# Floor Division: 3 // 2\n",
    "# Exponent:       3 ** 2\n",
    "# Square Root:    3 ** .5\n",
    "# Modulus:        3 % 2\n",
    "\n",
    "# Comparisons:\n",
    "# Equal:            3 == 2\n",
    "# Not Equal:        3 != 2\n",
    "# Greater Than:     3 > 2\n",
    "# Less Than:        3 < 2\n",
    "# Greater or Equal: 3 >= 2\n",
    "# Less or Equal:    3 <= 2"
   ]
  },
  {
   "cell_type": "code",
   "execution_count": 39,
   "metadata": {
    "collapsed": true
   },
   "outputs": [
    {
     "name": "stdout",
     "output_type": "stream",
     "text": [
      "a: 1\n",
      "b: 1\n",
      "c1: 2\n",
      "c2: 2\n",
      "d: 100\n",
      "e: 3.8\n"
     ]
    }
   ],
   "source": [
    "# A - Floored division (rounding down or removing decimals) by using // when dividing\n",
    "print(f'a: {3 // 2}')\n",
    "\n",
    "# B - Modulo returns how many times a number goes into another\n",
    "print(f'b: {3 % 2}') \n",
    "#Commonly used to find even/odd numbers by specifying x % 2 == 0 for even numbers and x % 3 == 0 for odd numbers\n",
    "\n",
    "# C1,2 - Can be more concise when reassigning number valaues by using +=, -=, etc.\n",
    "num = 1\n",
    "num = num + 1\n",
    "print(f'c1: {num}')\n",
    "\n",
    "#vs\n",
    "\n",
    "num = 1\n",
    "num += 1\n",
    "print(f'c2: {num}')\n",
    "\n",
    "# D - Can also do absolute value\n",
    "print(f\"d: {abs(-100)}\")\n",
    "\n",
    "# E - Rounding up to how many digits you want\n",
    "print(f'e: {round(3.75, 1)}')"
   ]
  },
  {
   "cell_type": "code",
   "execution_count": 47,
   "metadata": {
    "collapsed": true
   },
   "outputs": [
    {
     "ename": "TypeError",
     "evalue": "'float' object is not callable",
     "output_type": "error",
     "traceback": [
      "\u001b[1;31m---------------------------------------------------------------------------\u001b[0m",
      "\u001b[1;31mTypeError\u001b[0m                                 Traceback (most recent call last)",
      "\u001b[1;32m<ipython-input-47-1b4bf7275f2b>\u001b[0m in \u001b[0;36m<module>\u001b[1;34m\u001b[0m\n\u001b[0;32m      1\u001b[0m \u001b[1;31m# Casting data types (should work normally something is off with the variable names in the NB likely causing an error)\u001b[0m\u001b[1;33m\u001b[0m\u001b[1;33m\u001b[0m\u001b[1;33m\u001b[0m\u001b[0m\n\u001b[1;32m----> 2\u001b[1;33m \u001b[0mnum_1\u001b[0m \u001b[1;33m=\u001b[0m \u001b[0mint\u001b[0m\u001b[1;33m(\u001b[0m\u001b[1;34m'100'\u001b[0m\u001b[1;33m)\u001b[0m\u001b[1;33m\u001b[0m\u001b[1;33m\u001b[0m\u001b[0m\n\u001b[0m\u001b[0;32m      3\u001b[0m \u001b[0mnum_2\u001b[0m \u001b[1;33m=\u001b[0m \u001b[0mint\u001b[0m\u001b[1;33m(\u001b[0m\u001b[1;34m'200'\u001b[0m\u001b[1;33m)\u001b[0m\u001b[1;33m\u001b[0m\u001b[1;33m\u001b[0m\u001b[0m\n\u001b[0;32m      4\u001b[0m \u001b[1;33m\u001b[0m\u001b[0m\n\u001b[0;32m      5\u001b[0m \u001b[0mprint\u001b[0m\u001b[1;33m(\u001b[0m\u001b[0mnum_1\u001b[0m \u001b[1;33m+\u001b[0m \u001b[0mnum_2\u001b[0m\u001b[1;33m)\u001b[0m\u001b[1;33m\u001b[0m\u001b[1;33m\u001b[0m\u001b[0m\n",
      "\u001b[1;31mTypeError\u001b[0m: 'float' object is not callable"
     ]
    }
   ],
   "source": [
    "# Casting data types (should work normally something is off with the variable names in the NB likely causing an error)\n",
    "num_1 = int('100')\n",
    "num_2 = int('200')\n",
    "\n",
    "print(num_1 + num_2)"
   ]
  },
  {
   "cell_type": "markdown",
   "metadata": {},
   "source": [
    "# Lists, Tuples, and Sets"
   ]
  },
  {
   "cell_type": "code",
   "execution_count": 70,
   "metadata": {
    "collapsed": true
   },
   "outputs": [
    {
     "name": "stdout",
     "output_type": "stream",
     "text": [
      "['History', 'Math', 'Physics', 'CompSci']\n",
      "['History', 'Math', 'Physics', 'CompSci']\n",
      "['Art', 'Math', 'Physics', 'CompSci']\n",
      "['Art', 'Math', 'Physics', 'CompSci']\n",
      "('History', 'Math', 'Physics', 'CompSci')\n",
      "('History', 'Math', 'Physics', 'CompSci')\n",
      "('History', 'Math', 'Physics', 'CompSci')\n",
      "('History', 'Math', 'Physics', 'CompSci')\n",
      "CS Courses: {'CompSci', 'Physics', 'History', 'Math'}\n",
      "Art Courses: {'Art', 'Design', 'History', 'Math'}\n",
      "Similarities: {'History', 'Math'}\n",
      "Differences: {'Physics', 'CompSci'}\n",
      "Union: {'Math', 'Physics', 'Art', 'CompSci', 'Design', 'History'}\n"
     ]
    }
   ],
   "source": [
    "# Mutable\n",
    "list_1 = ['History', 'Math', 'Physics', 'CompSci']\n",
    "list_2 = list_1\n",
    "\n",
    "print(list_1)\n",
    "print(list_2)\n",
    "\n",
    "list_1[0] = 'Art'\n",
    "\n",
    "print(list_1)\n",
    "print(list_2)\n",
    "\n",
    "\n",
    "# Immutable\n",
    "tuple_1 = ('History', 'Math', 'Physics', 'CompSci')\n",
    "tuple_2 = tuple_1\n",
    "\n",
    "print(tuple_1)\n",
    "print(tuple_2)\n",
    "\n",
    "#tuple_1[0] = 'Art' -- Won't work\n",
    "\n",
    "print(tuple_1)\n",
    "print(tuple_2)\n",
    "\n",
    "# Sets (don't care about order cs_courses can be ran over and over and can be sorted differently)\n",
    "# Useful for removing duplicates\n",
    "cs_courses = {'History', 'Math', 'Physics', 'CompSci'}\n",
    "art_courses = {'History', 'Math', 'Art', 'Design'}\n",
    "print(f'CS Courses: {cs_courses}')\n",
    "print(f'Art Courses: {art_courses}')\n",
    "print(f'Similarities: {cs_courses.intersection(art_courses)}')\n",
    "print(f'Differences: {cs_courses.difference(art_courses)}') #symmetric_difference is cooler\n",
    "print(f'Union: {cs_courses.union(art_courses)}')\n",
    "\n",
    "\n",
    "\n",
    "# Empty Lists\n",
    "empty_list = []\n",
    "empty_list = list()\n",
    "\n",
    "# Empty Tuples\n",
    "empty_tuple = ()\n",
    "empty_tuple = tuple()\n",
    "\n",
    "# Empty Sets\n",
    "empty_set = {} # This isn't right! It's a dict\n",
    "empty_set = set()"
   ]
  },
  {
   "cell_type": "code",
   "execution_count": 65,
   "metadata": {
    "collapsed": true
   },
   "outputs": [
    {
     "name": "stdout",
     "output_type": "stream",
     "text": [
      "['AoPS', 'History', 'Math', 'Physics', 'CompSci', 'Art']\n",
      "['AoPS', 'History', 'Math', 'Physics', 'CompSci', 'Art', 'Education', 'Underwater Basket Weaving']\n",
      "Underwater Basket Weaving\n",
      "['Education', 'Art', 'CompSci', 'Physics', 'Math', 'History', 'AoPS']\n"
     ]
    }
   ],
   "source": [
    "### Methods\n",
    "\n",
    "# Append\n",
    "courses = ['History', 'Math', 'Physics', 'CompSci']\n",
    "courses.append('Art')\n",
    "courses.insert(0, 'AoPS')\n",
    "print(courses)\n",
    "\n",
    "# If you want to EXTEND a list and not insert a list within a list like append would\n",
    "courses2 = ['Education', 'Underwater Basket Weaving']\n",
    "courses.extend(courses2)\n",
    "print(courses)\n",
    "\n",
    "# Remove (removes specified object) and pop (gets rid of last item also can assign it to a variable)\n",
    "popped = courses.pop()\n",
    "print(popped)\n",
    "\n",
    "# Reverse\n",
    "courses.reverse()\n",
    "print(courses)\n",
    "\n",
    "# Sort (numbers in ascending order and strings abcd) note: can specificy sort(reverse = True) to do the opposite\n",
    "courses.sort()\n",
    "\n",
    "    # To not alter the original list you can use the sort function instead\n",
    "sorted_courses = sorted(courses)\n",
    "    \n",
    "# There is also sum, min, max"
   ]
  },
  {
   "cell_type": "code",
   "execution_count": 55,
   "metadata": {
    "collapsed": true
   },
   "outputs": [
    {
     "name": "stdout",
     "output_type": "stream",
     "text": [
      "1 AoPS\n",
      "2 History\n",
      "3 Math\n",
      "4 Physics\n",
      "5 CompSci\n",
      "6 Art\n",
      "7 Education\n",
      "8 Underwater Basket Weaving\n"
     ]
    }
   ],
   "source": [
    "# To index for loops use enumerate\n",
    "\n",
    "for index, course in enumerate(courses, start = 1):\n",
    "    print(index, course)"
   ]
  },
  {
   "cell_type": "code",
   "execution_count": 59,
   "metadata": {
    "collapsed": true
   },
   "outputs": [
    {
     "name": "stdout",
     "output_type": "stream",
     "text": [
      "History - Math - Physics - CompSci\n",
      "['History', 'Math', 'Physics', 'CompSci']\n"
     ]
    }
   ],
   "source": [
    "# Joining strings in a list together into one string and then splitting it back into a list\n",
    "courses = ['History', 'Math', 'Physics', 'CompSci']\n",
    "course_str = ' - '.join(courses)\n",
    "print(course_str)\n",
    "\n",
    "new_list = course_str.split(' - ')\n",
    "print(new_list)"
   ]
  },
  {
   "cell_type": "markdown",
   "metadata": {},
   "source": [
    "# Dictionaries"
   ]
  },
  {
   "cell_type": "code",
   "execution_count": 168,
   "metadata": {
    "collapsed": true
   },
   "outputs": [
    {
     "name": "stdout",
     "output_type": "stream",
     "text": [
      "{'name': 'Jane', 'age': 26, 'courses': ['Math', 'CompSci'], 'phone': '555-5555'}\n",
      "555-5555\n",
      "{'name': 'Jane', 'courses': ['Math', 'CompSci'], 'phone': '555-5555'}\n",
      "555-5555\n",
      "Student Keys: dict_keys(['name', 'courses'])\n",
      "Student Values: dict_values(['Jane', ['Math', 'CompSci']])\n",
      "Keys & Values: dict_items([('name', 'Jane'), ('courses', ['Math', 'CompSci'])])\n",
      "name Jane\n",
      "courses ['Math', 'CompSci']\n"
     ]
    }
   ],
   "source": [
    "# Dictionaries have unique keys (get method is a good way to look at dictionaries)\n",
    "student = {'name': 'John', 'age': 25, 'courses': ['Math', 'CompSci']}\n",
    "                                                  \n",
    "# Adding to a dicionary (using update is helful when updating several things)\n",
    "student['phone'] = '555-5555'\n",
    "student.update({'name': 'Jane', 'age': 26, 'phone': '555-5555'})\n",
    "print(student)\n",
    "                                                  \n",
    "print(student.get('phone', 'Not Found'))\n",
    "\n",
    "# Can delete and pop\n",
    "del student['age']\n",
    "print(student)\n",
    "\n",
    "popped = student.pop('phone')\n",
    "print(popped)\n",
    "\n",
    "# Look at keys and values and keys & values using:\n",
    "\n",
    "print(f'Student Keys: {student.keys()}')\n",
    "print(f'Student Values: {student.values()}')\n",
    "print(f'Keys & Values: {student.items()}')\n"
   ]
  },
  {
   "cell_type": "code",
   "execution_count": 169,
   "metadata": {
    "collapsed": true
   },
   "outputs": [
    {
     "name": "stdout",
     "output_type": "stream",
     "text": [
      "name Jane\n",
      "courses ['Math', 'CompSci']\n"
     ]
    }
   ],
   "source": [
    "# Looping through a dictionary\n",
    "\n",
    "for key, value in student.items():\n",
    "    print(key, value)"
   ]
  },
  {
   "cell_type": "markdown",
   "metadata": {},
   "source": [
    "# Conditionals and Booleans - If, Else, and Elif"
   ]
  },
  {
   "cell_type": "code",
   "execution_count": 173,
   "metadata": {
    "collapsed": true
   },
   "outputs": [
    {
     "name": "stdout",
     "output_type": "stream",
     "text": [
      "The language is Java mang!\n"
     ]
    }
   ],
   "source": [
    "language = 'Java'\n",
    "\n",
    "if language == 'Python':\n",
    "    print(\"The language is Python\")\n",
    "elif language == 'Java':\n",
    "    print(\"The language is Java\")\n",
    "elif language == 'JavaScript':\n",
    "    print(\"The language is JavaScript\")\n",
    "else:\n",
    "    print(\"Idk what it is\")"
   ]
  },
  {
   "cell_type": "code",
   "execution_count": 174,
   "metadata": {
    "collapsed": true
   },
   "outputs": [
    {
     "name": "stdout",
     "output_type": "stream",
     "text": [
      "Admin Page\n"
     ]
    }
   ],
   "source": [
    "user = 'Admin'\n",
    "logged_in = True\n",
    "\n",
    "if user == 'Admin' and logged_in:     # if looks to see if the two cases are true so saying logged_in == True isn't needed\n",
    "    print('Admin Page')\n",
    "else:\n",
    "    print('Bad creds')"
   ]
  },
  {
   "cell_type": "code",
   "execution_count": 175,
   "metadata": {
    "collapsed": true
   },
   "outputs": [
    {
     "name": "stdout",
     "output_type": "stream",
     "text": [
      "False\n"
     ]
    }
   ],
   "source": [
    "# False because a and b are two different entitheeks\n",
    "a = [1, 2, 3]\n",
    "b = [1, 2, 3]\n",
    "print(a is b)"
   ]
  },
  {
   "cell_type": "code",
   "execution_count": 182,
   "metadata": {
    "collapsed": true
   },
   "outputs": [
    {
     "name": "stdout",
     "output_type": "stream",
     "text": [
      "Evaluated to False\n"
     ]
    }
   ],
   "source": [
    "# False Values:\n",
    "    # False\n",
    "    # None\n",
    "    # Zero of any numeric type\n",
    "    # Any empty sequence. For example, '', (), [].\n",
    "    # Any empty mapping. For example, {}.\n",
    "    \n",
    "# The opposite cases of the above result in true\n",
    "\n",
    "condition = {}\n",
    "\n",
    "if condition:\n",
    "    print('Evaluated to True')\n",
    "else:\n",
    "    print('Evaluated to False')"
   ]
  },
  {
   "cell_type": "markdown",
   "metadata": {},
   "source": [
    "# For/While Loops"
   ]
  },
  {
   "cell_type": "code",
   "execution_count": 187,
   "metadata": {
    "collapsed": true
   },
   "outputs": [
    {
     "name": "stdout",
     "output_type": "stream",
     "text": [
      "1\n",
      "2\n",
      "Found!\n",
      "4\n",
      "5\n"
     ]
    }
   ],
   "source": [
    "nums = [1, 2, 3, 4, 5]\n",
    "\n",
    "for num in nums:\n",
    "    if num == 3:\n",
    "        print('Found!')\n",
    "        continue\n",
    "    print(num)"
   ]
  },
  {
   "cell_type": "code",
   "execution_count": 188,
   "metadata": {
    "collapsed": true
   },
   "outputs": [
    {
     "name": "stdout",
     "output_type": "stream",
     "text": [
      "1 a\n",
      "1 b\n",
      "1 c\n",
      "2 a\n",
      "2 b\n",
      "2 c\n",
      "3 a\n",
      "3 b\n",
      "3 c\n",
      "4 a\n",
      "4 b\n",
      "4 c\n",
      "5 a\n",
      "5 b\n",
      "5 c\n"
     ]
    }
   ],
   "source": [
    "# Loop-ception\n",
    "for num in nums:\n",
    "    for letter in 'abc':\n",
    "        print(num, letter)"
   ]
  },
  {
   "cell_type": "code",
   "execution_count": 190,
   "metadata": {
    "collapsed": true
   },
   "outputs": [
    {
     "name": "stdout",
     "output_type": "stream",
     "text": [
      "1\n",
      "2\n",
      "3\n",
      "4\n",
      "5\n",
      "6\n",
      "7\n",
      "8\n",
      "9\n",
      "10\n"
     ]
    }
   ],
   "source": [
    "# How to run through a loop a certain # of times\n",
    "for i in range(1,11):\n",
    "    print(i)"
   ]
  },
  {
   "cell_type": "code",
   "execution_count": 191,
   "metadata": {
    "collapsed": true
   },
   "outputs": [
    {
     "name": "stdout",
     "output_type": "stream",
     "text": [
      "0\n",
      "1\n",
      "2\n",
      "3\n",
      "4\n",
      "5\n",
      "6\n",
      "7\n",
      "8\n",
      "9\n"
     ]
    }
   ],
   "source": [
    "# While loops keep going unless broken or a certain condition is met (having while True: will make an infinite loop)\n",
    "x = 0\n",
    "\n",
    "while x < 10:\n",
    "    print(x)\n",
    "    x += 1"
   ]
  },
  {
   "cell_type": "markdown",
   "metadata": {},
   "source": [
    "# Functions"
   ]
  },
  {
   "cell_type": "code",
   "execution_count": 195,
   "metadata": {},
   "outputs": [
    {
     "name": "stdout",
     "output_type": "stream",
     "text": [
      "None\n"
     ]
    }
   ],
   "source": [
    "def hello_func():\n",
    "    pass # incase you don't want to throw an error and come back to it later\n",
    "\n",
    "print(hello_func()) # Having () executes the function\n",
    "\n",
    "#returns nothing"
   ]
  },
  {
   "cell_type": "code",
   "execution_count": 211,
   "metadata": {},
   "outputs": [
    {
     "name": "stdout",
     "output_type": "stream",
     "text": [
      "HI, COREY.\n"
     ]
    }
   ],
   "source": [
    "# To be used when greeting co-workers in the hall\n",
    "# Useful in case you have make a change. You only have to change the function one time\n",
    "def hello_func(greeting, name = 'You'):\n",
    "    return '{}, {}.'.format(greeting, name)\n",
    "\n",
    "print(hello_func('Hi', 'Corey').upper())"
   ]
  },
  {
   "cell_type": "code",
   "execution_count": 213,
   "metadata": {},
   "outputs": [
    {
     "name": "stdout",
     "output_type": "stream",
     "text": [
      "('Math', 'Art')\n",
      "{'name': 'John', 'age': 22}\n"
     ]
    }
   ],
   "source": [
    "# Convention you may come across where you can make tuples and dictionaries for the items in the tuple\n",
    "def student_info(*args, **kwargs):\n",
    "    print(args)\n",
    "    print(kwargs)\n",
    "\n",
    "student_info('Math', 'Art', name = 'John', age = 22)"
   ]
  },
  {
   "cell_type": "code",
   "execution_count": 219,
   "metadata": {},
   "outputs": [
    {
     "name": "stdout",
     "output_type": "stream",
     "text": [
      "('Math', 'Art')\n",
      "{'name': 'John', 'age': 22}\n"
     ]
    }
   ],
   "source": [
    "\n",
    "def student_info(*args, **kwargs):\n",
    "    print(args)\n",
    "    print(kwargs)\n",
    "          \n",
    "courses = ['Math', 'Art']\n",
    "info = {'name': 'John', 'age': 22}\n",
    "          \n",
    "student_info(*courses, **info) # Needs to have the *'s for it to work like the example before"
   ]
  },
  {
   "cell_type": "code",
   "execution_count": 220,
   "metadata": {},
   "outputs": [
    {
     "name": "stdout",
     "output_type": "stream",
     "text": [
      "28\n"
     ]
    }
   ],
   "source": [
    "# Number of days per month. First value placeholder for indexing purposes.\n",
    "month_days = [0, 31, 28, 31, 30, 31, 30, 31, 31, 30, 31, 30, 31]\n",
    "\n",
    "\n",
    "def is_leap(year):\n",
    "    \"\"\"Return True for leap years, False for non-leap years.\"\"\" # Should put for each of your functions\n",
    "\n",
    "    return year % 4 == 0 and (year % 100 != 0 or year % 400 == 0)\n",
    "\n",
    "\n",
    "def days_in_month(year, month):\n",
    "    \"\"\"Return number of days in that month in that year.\"\"\"\n",
    "\n",
    "    if not 1 <= month <= 12:\n",
    "        return 'Invalid Month'\n",
    "\n",
    "    if month == 2 and is_leap(year):\n",
    "        return 29\n",
    "\n",
    "    return month_days[month]\n",
    "\n",
    "print(days_in_month(2017, 2))"
   ]
  },
  {
   "cell_type": "code",
   "execution_count": 222,
   "metadata": {},
   "outputs": [
    {
     "name": "stdout",
     "output_type": "stream",
     "text": [
      "C:\\Users\\Craig.Hinman\\Python Lessons\\corey_schafer_lessons\n",
      "C:\\Users\\Craig.Hinman\\AppData\\Local\\Continuum\\anaconda3\\lib\\os.py\n"
     ]
    }
   ],
   "source": [
    "# Imports\n",
    "import os\n",
    "print(os.getcwd())\n",
    "print(os.__file__) # shows file location on computer "
   ]
  },
  {
   "cell_type": "code",
   "execution_count": 223,
   "metadata": {},
   "outputs": [],
   "source": [
    "import antigravity"
   ]
  },
  {
   "cell_type": "markdown",
   "metadata": {},
   "source": [
    "# Generators"
   ]
  },
  {
   "cell_type": "code",
   "execution_count": 2,
   "metadata": {},
   "outputs": [
    {
     "name": "stdout",
     "output_type": "stream",
     "text": [
      "1\n",
      "4\n",
      "9\n",
      "16\n",
      "25\n"
     ]
    }
   ],
   "source": [
    "# More readable\n",
    "def square_numbers(nums):\n",
    "    for i in nums:\n",
    "        yield(i * i)\n",
    "        \n",
    "my_nums = square_numbers([1, 2, 3, 4, 5])\n",
    "\n",
    "for num in my_nums:\n",
    "    print(num)"
   ]
  },
  {
   "cell_type": "code",
   "execution_count": 5,
   "metadata": {},
   "outputs": [
    {
     "name": "stdout",
     "output_type": "stream",
     "text": [
      "[1, 4, 9, 16, 25]\n"
     ]
    }
   ],
   "source": [
    "# Or you can just use a comprehension. Generators are better for performance but casting as a list isn't as optimal\n",
    "\n",
    "my_nums = (x * x for x in [1, 2, 3, 4, 5])\n",
    "\n",
    "print(list(my_nums))"
   ]
  },
  {
   "cell_type": "markdown",
   "metadata": {},
   "source": [
    "# Multiprocessing (doesn't work)"
   ]
  },
  {
   "cell_type": "code",
   "execution_count": 11,
   "metadata": {},
   "outputs": [
    {
     "name": "stdout",
     "output_type": "stream",
     "text": [
      "Finished in 5.91 second(s)\n"
     ]
    }
   ],
   "source": [
    "import concurrent.futures\n",
    "import time\n",
    "\n",
    "start = time.perf_counter()\n",
    "\n",
    "\n",
    "def do_something(seconds):\n",
    "    print(f'Sleeping {seconds} second(s)...')\n",
    "    time.sleep(seconds)\n",
    "    return f'Done Sleeping...{seconds}'\n",
    "\n",
    "\n",
    "with concurrent.futures.ProcessPoolExecutor() as executor:\n",
    "    secs = [5, 4, 3, 2, 1]\n",
    "    results = executor.map(do_something, secs)\n",
    "\n",
    "#     for result in results:\n",
    "#         print(result)\n",
    "\n",
    "finish = time.perf_counter()\n",
    "\n",
    "print(f'Finished in {round(finish-start, 2)} second(s)')"
   ]
  }
 ],
 "metadata": {
  "kernelspec": {
   "display_name": "Python 3",
   "language": "python",
   "name": "python3"
  },
  "language_info": {
   "codemirror_mode": {
    "name": "ipython",
    "version": 3
   },
   "file_extension": ".py",
   "mimetype": "text/x-python",
   "name": "python",
   "nbconvert_exporter": "python",
   "pygments_lexer": "ipython3",
   "version": "3.7.4"
  }
 },
 "nbformat": 4,
 "nbformat_minor": 2
}
